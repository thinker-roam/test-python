{
 "cells": [
  {
   "cell_type": "markdown",
   "metadata": {},
   "source": [
    "## 变量"
   ]
  },
  {
   "cell_type": "markdown",
   "metadata": {},
   "source": [
    "### 支持科学计数法 (字面量)"
   ]
  },
  {
   "cell_type": "code",
   "execution_count": 1,
   "metadata": {},
   "outputs": [
    {
     "name": "stdout",
     "output_type": "stream",
     "text": [
      "123.56\n"
     ]
    }
   ],
   "source": [
    "print(1.2356e2)"
   ]
  },
  {
   "cell_type": "markdown",
   "metadata": {},
   "source": [
    "### 类型判断"
   ]
  },
  {
   "cell_type": "code",
   "execution_count": null,
   "metadata": {},
   "outputs": [
    {
     "name": "stdout",
     "output_type": "stream",
     "text": [
      "int::type:: <class 'int'>\n",
      "float::type:: <class 'float'>\n",
      "string::type:: <class 'str'>\n",
      "boolean::type:: <class 'bool'>\n",
      "list::type:: <class 'list'>\n"
     ]
    }
   ],
   "source": [
    "a = 100\n",
    "b = 123.234\n",
    "c = 'hello world'\n",
    "d = True\n",
    "e = [1,2,3,4]\n",
    "print (f'int::type:: {type(a)}')\n",
    "print (f'float::type:: {type(b)}')\n",
    "print (f'string::type:: {type(c)}')\n",
    "print (f'boolean::type:: {type(d)}')\n",
    "# print (f'list::type:: {type(e)}')\n"
   ]
  },
  {
   "cell_type": "markdown",
   "metadata": {},
   "source": [
    "## 强制类型转换"
   ]
  },
  {
   "cell_type": "markdown",
   "metadata": {},
   "source": [
    "### `int()`\n",
    "\n",
    "- 将基本类型( number(float)  / boolean  )转换成整数\n",
    "- 可以指定进制"
   ]
  },
  {
   "cell_type": "code",
   "execution_count": 3,
   "metadata": {},
   "outputs": [
    {
     "name": "stdout",
     "output_type": "stream",
     "text": [
      "======基本类型========\n",
      "float to int  123\n",
      "boolean to int  1\n",
      "======复杂类型========\n"
     ]
    }
   ],
   "source": [
    "int_num = 1234\n",
    "float_num = 123.123\n",
    "string_test = 'hello world'\n",
    "char_test = 'A'\n",
    "chr_num = 49\n",
    "ord_string = 'A'\n",
    "boolean = True\n",
    "\n",
    "list_test = [12,2,3,4,5]\n",
    "\n",
    "def test():\n",
    "    return 0\n",
    "\n",
    "\n",
    "print('======基本类型========')\n",
    "print(f\"float to int  {int(float_num)}\")\n",
    "# print(f\"char to int  {int(char_test)}\")  # 无法转换 报错\n",
    "# print(f\"string to int  {int(string_)}\") # 无法转换 报错\n",
    "print(f\"boolean to int  {int(boolean)}\")\n",
    "print('======复杂类型========')\n",
    "# print(f\"list to int  {int(list_test)}\") # 无法转换 报错\n",
    "# print(f\"function to int  {int(test)}\") # 无法转换 报错\n"
   ]
  },
  {
   "cell_type": "markdown",
   "metadata": {},
   "source": [
    "### `float()` \n",
    "\n",
    " - 将基本类型( number(int)  / boolean  )转换成浮点数\n"
   ]
  },
  {
   "cell_type": "code",
   "execution_count": 19,
   "metadata": {},
   "outputs": [
    {
     "name": "stdout",
     "output_type": "stream",
     "text": [
      "======基本类型========\n",
      "int to float  1234.0\n",
      "boolean to float  1.0\n",
      "======复杂类型========\n"
     ]
    }
   ],
   "source": [
    "int_num = 1234\n",
    "string_test = 'hello world'\n",
    "char_test = 'A'\n",
    "chr_num = 49\n",
    "ord_string = 'A'\n",
    "boolean = True\n",
    "\n",
    "list_test = [12,2,3,4,5]\n",
    "\n",
    "def test():\n",
    "    return 0\n",
    "\n",
    "\n",
    "print('======基本类型========')\n",
    "print(f\"int to float  {float(int_num)}\")\n",
    "# print(f\"char to float  {float(char_test)}\")  # 无法转换 报错\n",
    "# print(f\"string to float  {float(string_)}\") # 无法转换 报错\n",
    "print(f\"boolean to float  {float(boolean)}\")\n",
    "print('======复杂类型========')\n",
    "# print(f\"list to float  {float(list_test)}\") # 无法转换 报错\n",
    "# print(f\"function to float  {float(test)}\") # 无法转换 报错"
   ]
  },
  {
   "cell_type": "markdown",
   "metadata": {},
   "source": [
    "###  `str()`\n",
    "\n",
    "- 将指定的对象（基本类型 + 复杂类型） 转换为 字符串形式"
   ]
  },
  {
   "cell_type": "code",
   "execution_count": 1,
   "metadata": {},
   "outputs": [
    {
     "name": "stdout",
     "output_type": "stream",
     "text": [
      "======基本类型========\n",
      "int to str  1234\n",
      "float to str  1231.24\n",
      "boolean to str  True\n",
      "======复杂类型========\n",
      "list to str  [12, 2, 3, 4, 5]\n",
      "function to str  <function test at 0x0000029897E9BF60>\n"
     ]
    }
   ],
   "source": [
    "int_num = 1234\n",
    "float_num = 1231.24\n",
    "boolean = True\n",
    "\n",
    "list_test = [12,2,3,4,5]\n",
    "\n",
    "def test():\n",
    "    return 0\n",
    "\n",
    "\n",
    "print('======基本类型========')\n",
    "print(f\"int to str  {str(int_num)}\")\n",
    "print(f\"float to str  {str(float_num)}\")\n",
    "print(f\"boolean to str  {str(boolean)}\")\n",
    "print('======复杂类型========')\n",
    "print(f\"list to str  {str(list_test)}\")  \n",
    "print(f\"function to str  {str(test)}\")  "
   ]
  },
  {
   "cell_type": "markdown",
   "metadata": {},
   "source": [
    "### `chr()`\n",
    "\n",
    ">  将整数（字符编码） 转换成对应的（一个字符的）字符串"
   ]
  },
  {
   "cell_type": "code",
   "execution_count": null,
   "metadata": {},
   "outputs": [
    {
     "name": "stdout",
     "output_type": "stream",
     "text": [
      " code num to string ::  A\n"
     ]
    }
   ],
   "source": [
    "chr_num = 65\n",
    "\n",
    "\n",
    "print(f\" code num to string ::  {chr(chr_num)}\") # A"
   ]
  },
  {
   "cell_type": "markdown",
   "metadata": {},
   "source": [
    "### `ord()`\n",
    "> 将字符 转换为 整数（字符编码）"
   ]
  },
  {
   "cell_type": "code",
   "execution_count": 12,
   "metadata": {},
   "outputs": [
    {
     "name": "stdout",
     "output_type": "stream",
     "text": [
      "char to char code ::  104\n"
     ]
    }
   ],
   "source": [
    "char_ =  'h'\n",
    "\n",
    "print(f'char to char code ::  {ord(char_)}')"
   ]
  },
  {
   "cell_type": "markdown",
   "metadata": {},
   "source": [
    "## 运算符"
   ]
  },
  {
   "cell_type": "markdown",
   "metadata": {},
   "source": [
    "| 运算符                                                       | 描述                           |\n",
    "| ------------------------------------------------------------ | ------------------------------ |\n",
    "| `[]`、`[:]`                                                 | 索引、切片                  |\n",
    "| `**`                                                         | 幂                             |\n",
    "| `~`、`+`、`-`                                              | 按位取反、正号、负号         |\n",
    "| `*`、`/`、`%`、`//`                                       | 乘、除、模、整除            |\n",
    "| `+`、`-`                                                    | 加、减                        |\n",
    "| `>>`、`<<`                                                  | 右移、左移                    |\n",
    "| `&`                                                          | 按位与                         |\n",
    "| `^`、`\\|`                                                   | 按位异或、按位或              |\n",
    "| `<=`、`<`、`>`、`>=`                                      | 小于等于、小于、大于、大于等于 |\n",
    "| `==`、`!=`                                                   | 等于、不等于                  |\n",
    "| `is`、`is not`                                               | 身份运算符                     |\n",
    "| `in`、`not in`                                                | 成员运算符                     |\n",
    "| `not`、`or`、`and`                                             | 逻辑运算符                     |\n",
    "| `=`、`+=`、`-=`、`*=`、`/=`、`%=`、`//=`、`**=`、`&=`、`\\|=`、`^=`、`>>=`、`<<=` | 赋值运算符             |"
   ]
  },
  {
   "cell_type": "markdown",
   "metadata": {},
   "source": [
    "### 算数运算符"
   ]
  },
  {
   "cell_type": "code",
   "execution_count": 4,
   "metadata": {},
   "outputs": [
    {
     "name": "stdout",
     "output_type": "stream",
     "text": [
      "26.75\n",
      "26\n",
      "4\n"
     ]
    }
   ],
   "source": [
    "# 除法\n",
    "print(321 / 12) \n",
    "# 整除\n",
    "print(321 // 12) \n",
    "\n",
    "# 乘方\n",
    "print( 2 ** 2)"
   ]
  },
  {
   "cell_type": "markdown",
   "metadata": {},
   "source": [
    "#### 浮点数——保留小数点位数"
   ]
  },
  {
   "cell_type": "code",
   "execution_count": 8,
   "metadata": {},
   "outputs": [
    {
     "name": "stdout",
     "output_type": "stream",
     "text": [
      "1.1\n",
      "1.1\n"
     ]
    }
   ],
   "source": [
    "float_num = 1.123231231\n",
    "# print(float_num:.1f}) # 语法错误\n",
    "print(f'{float_num:.1f}')\n",
    "print(float(f'{float_num:.1f}'))"
   ]
  },
  {
   "cell_type": "markdown",
   "metadata": {},
   "source": [
    "### 逻辑运算符"
   ]
  },
  {
   "cell_type": "markdown",
   "metadata": {},
   "source": [
    "#### and"
   ]
  },
  {
   "cell_type": "code",
   "execution_count": 5,
   "metadata": {},
   "outputs": [
    {
     "name": "stdout",
     "output_type": "stream",
     "text": [
      "False\n",
      "False\n"
     ]
    }
   ],
   "source": [
    "flag_1 = True\n",
    "flag_2 = False\n",
    "\n",
    "print( flag_1 and flag_2)\n",
    "print( flag_2 and flag_1)"
   ]
  },
  {
   "cell_type": "markdown",
   "metadata": {},
   "source": [
    "#### or"
   ]
  },
  {
   "cell_type": "code",
   "execution_count": 2,
   "metadata": {},
   "outputs": [
    {
     "name": "stdout",
     "output_type": "stream",
     "text": [
      "True\n",
      "True\n"
     ]
    }
   ],
   "source": [
    "flag_true = True\n",
    "flag_false = False \n",
    "\n",
    "print(flag_true or flag_false)\n",
    "print(flag_false or flag_true)"
   ]
  },
  {
   "cell_type": "markdown",
   "metadata": {},
   "source": [
    "#### eg: 华氏温度 转 摄氏温度\n",
    "\n",
    "$\\small{C = (F - 32) / 1.8}$ "
   ]
  },
  {
   "cell_type": "code",
   "execution_count": 5,
   "metadata": {},
   "outputs": [
    {
     "name": "stdout",
     "output_type": "stream",
     "text": [
      "19.444444444444443\n",
      "67.0华氏度  =  19.444444444444443摄氏度\n",
      "67.0华氏度  =  19.4摄氏度\n"
     ]
    }
   ],
   "source": [
    "f_num = float(input('请输入华氏温度'))\n",
    "\n",
    "c_num = (f_num - 32) / 1.8\n",
    "\n",
    "print(c_num)\n",
    "\n",
    "print(f'{f_num}华氏度  =  {c_num}摄氏度')\n",
    "\n",
    "\n",
    "print(f'{f_num:.1f}华氏度  =  {c_num:.1f}摄氏度')"
   ]
  },
  {
   "cell_type": "markdown",
   "metadata": {},
   "source": [
    "#### eg: 计算圆的周长和面积\n",
    "\n",
    "> **要求**：输入一个圆的半径（$\\small{r}$），计算出它的周长（ $\\small{2 \\pi r}$ ）和面积（ $\\small{\\pi r^{2}}$ ）。"
   ]
  },
  {
   "cell_type": "code",
   "execution_count": null,
   "metadata": {},
   "outputs": [
    {
     "name": "stdout",
     "output_type": "stream",
     "text": [
      "周长：772.8\n",
      "面积：47529.155256\n"
     ]
    }
   ],
   "source": [
    "import math\n",
    "\n",
    "radius = float(input('请输入 ⚪ 的半径'))\n",
    "\n",
    "perimeter  = 2 * math.pi * radius\n",
    "\n",
    "area = math.pi * (radius ** 2)\n",
    "\n",
    "print(f'周长：{perimeter:.1f}')\n",
    "print(f'面积：{area:.1f}')"
   ]
  },
  {
   "cell_type": "markdown",
   "metadata": {},
   "source": [
    "## 分支运算"
   ]
  },
  {
   "cell_type": "markdown",
   "metadata": {},
   "source": [
    "### if elif else"
   ]
  },
  {
   "cell_type": "code",
   "execution_count": 2,
   "metadata": {},
   "outputs": [
    {
     "name": "stdout",
     "output_type": "stream",
     "text": [
      "状态码描述:: Not Found\n"
     ]
    }
   ],
   "source": [
    "status_code = int(input('响应状态码'))\n",
    "\n",
    "if status_code == 400:\n",
    "    description = 'Bad Request'\n",
    "elif status_code == 401:\n",
    "    description = 'Unauthorized'\n",
    "elif status_code == 403:\n",
    "    description = 'Forbidden'\n",
    "elif status_code == 404:\n",
    "    description = 'Not Found'\n",
    "elif status_code == 405:\n",
    "    description = 'Method Not Allowed'\n",
    "elif status_code == 418:\n",
    "    description = 'I am  a teapot'\n",
    "elif status_code == 429:\n",
    "    description = 'Too many requests'\n",
    "else:\n",
    "    description = 'Unknown status code'\n",
    "    \n",
    "print(f'状态码描述:: {description}')"
   ]
  },
  {
   "cell_type": "markdown",
   "metadata": {},
   "source": [
    "### match case"
   ]
  },
  {
   "cell_type": "code",
   "execution_count": 9,
   "metadata": {},
   "outputs": [
    {
     "name": "stdout",
     "output_type": "stream",
     "text": [
      "状态码描述：： Unknown status code\n"
     ]
    }
   ],
   "source": [
    "status_code = int(input('响应状态码'))\n",
    "match status_code:\n",
    "        case 400:\n",
    "            description = 'Bad Request'\n",
    "        case 401:\n",
    "            description = 'Unauthorized'\n",
    "        case 403:\n",
    "            description = 'Forbidden'\n",
    "        case 405:\n",
    "            description = 'Method Not Allowed'\n",
    "        case 418:\n",
    "            description = 'I am teapot'\n",
    "        case 429:\n",
    "            description = 'Too many requests'\n",
    "        case _: \n",
    "            description = 'Unknown status code'\n",
    "print(f'状态码描述：： {description}')            "
   ]
  },
  {
   "cell_type": "markdown",
   "metadata": {},
   "source": [
    "#### 合并模式"
   ]
  },
  {
   "cell_type": "code",
   "execution_count": 12,
   "metadata": {},
   "outputs": [
    {
     "name": "stdout",
     "output_type": "stream",
     "text": [
      "状态码描述：： Not Allowed\n"
     ]
    }
   ],
   "source": [
    "status_code = int(input('响应状态码'))\n",
    "\n",
    "match status_code:\n",
    "    case 400 | 405: description = 'Invlid Request'\n",
    "    case 401 | 403 | 404 : description = 'Not Allowed'\n",
    "    case 418: description = 'I am teapot'\n",
    "    case 429: description = 'Too many requests'\n",
    "    case _:   description = 'Unknown status code'\n",
    "print(f'状态码描述：： {description}') "
   ]
  },
  {
   "cell_type": "markdown",
   "metadata": {},
   "source": [
    "## 循环"
   ]
  },
  {
   "cell_type": "markdown",
   "metadata": {},
   "source": [
    "### sleep 函数\n",
    "\n",
    "- time 模块的 sleep 函数 可以实现 程序休眠\n",
    "  - 参数 \n",
    "    - 休眠的秒数\n",
    "    - 类型 int/float\n",
    "    - `0.05` 50毫秒 "
   ]
  },
  {
   "cell_type": "code",
   "execution_count": 1,
   "metadata": {},
   "outputs": [
    {
     "name": "stdout",
     "output_type": "stream",
     "text": [
      "hello world\n"
     ]
    }
   ],
   "source": [
    "import time \n",
    "\n",
    "print ('hello world')\n",
    "\n",
    "time.sleep(1)"
   ]
  },
  {
   "cell_type": "markdown",
   "metadata": {},
   "source": [
    "### `range` 生成指定范围的随机数\n",
    "\n",
    "- `range(101)`\n",
    "  - 生成 0 - 100 范围的整数 ， 取不到 101\n",
    "- `range(1, 101)`\n",
    "  - 生成 1 - 100 范围的整数 ， 左闭右开 `[1,101)` ，取到 1 ，取不到 101\n",
    "- `range(1, 101, 2)`\n",
    "  - 生成 1 - 100 范围的奇数 , 步长（跨度）为 2 ，即每次递增的值 ， 101 取不到\n",
    "- `range(100, 0, -2)`\n",
    "  - 生成 100 - 1 范围的偶数 ， 步长（跨度）为 2 ， 即每次递减的值 ， 0 取不到"
   ]
  },
  {
   "cell_type": "markdown",
   "metadata": {},
   "source": [
    "### for-in"
   ]
  },
  {
   "cell_type": "markdown",
   "metadata": {},
   "source": [
    "#### eg: 每隔一秒输出 1 次\"hello world\""
   ]
  },
  {
   "cell_type": "code",
   "execution_count": null,
   "metadata": {},
   "outputs": [],
   "source": [
    "\"\"\"\n",
    "每隔 1 秒输出 1 次 \"hello world\"\n",
    "\"\"\"\n",
    "\n",
    "import time\n",
    "\n",
    "for i in range(3600):\n",
    "    print('hello world')\n",
    "    time.sleep(1)"
   ]
  },
  {
   "cell_type": "markdown",
   "metadata": {},
   "source": [
    "#### 从 1 到 100 的偶数求和"
   ]
  },
  {
   "cell_type": "markdown",
   "metadata": {},
   "source": [
    "##### 使用步长"
   ]
  },
  {
   "cell_type": "code",
   "execution_count": 24,
   "metadata": {},
   "outputs": [
    {
     "name": "stdout",
     "output_type": "stream",
     "text": [
      "2550\n"
     ]
    }
   ],
   "source": [
    "total = 0\n",
    "\n",
    "for i in range(2,101 , 2):\n",
    "    total += i\n",
    "print(total)"
   ]
  },
  {
   "cell_type": "markdown",
   "metadata": {},
   "source": [
    "##### 使用 if 判断 取余"
   ]
  },
  {
   "cell_type": "code",
   "execution_count": 27,
   "metadata": {},
   "outputs": [
    {
     "name": "stdout",
     "output_type": "stream",
     "text": [
      "2550\n"
     ]
    }
   ],
   "source": [
    "total = 0\n",
    "\n",
    "for i in range(1,101):\n",
    "    if i % 2 == 0:\n",
    "        total += i\n",
    "print(total)"
   ]
  },
  {
   "cell_type": "markdown",
   "metadata": {},
   "source": [
    "##### 使用内置 sum 函数 （循环都省了）"
   ]
  },
  {
   "cell_type": "code",
   "execution_count": 26,
   "metadata": {},
   "outputs": [
    {
     "name": "stdout",
     "output_type": "stream",
     "text": [
      "2550\n"
     ]
    }
   ],
   "source": [
    "print(sum(range(2 , 101 , 2)))"
   ]
  },
  {
   "cell_type": "markdown",
   "metadata": {},
   "source": [
    "### while"
   ]
  },
  {
   "cell_type": "markdown",
   "metadata": {},
   "source": [
    "#### 从 1 到 100 的偶数求和"
   ]
  },
  {
   "cell_type": "code",
   "execution_count": 31,
   "metadata": {},
   "outputs": [
    {
     "name": "stdout",
     "output_type": "stream",
     "text": [
      "2550\n"
     ]
    }
   ],
   "source": [
    "\n",
    "total = 0\n",
    "i = 1\n",
    "while i <= 100:\n",
    "    if i % 2 == 0:\n",
    "        total += i\n",
    "    i += 1\n",
    "print(total)"
   ]
  },
  {
   "cell_type": "code",
   "execution_count": 33,
   "metadata": {},
   "outputs": [
    {
     "name": "stdout",
     "output_type": "stream",
     "text": [
      "2550\n"
     ]
    }
   ],
   "source": [
    "total = 0\n",
    "i = 2\n",
    "while i <= 100 :\n",
    "    total += i\n",
    "    i += 2\n",
    "print(total)"
   ]
  }
 ],
 "metadata": {
  "kernelspec": {
   "display_name": "Python 3",
   "language": "python",
   "name": "python3"
  },
  "language_info": {
   "codemirror_mode": {
    "name": "ipython",
    "version": 3
   },
   "file_extension": ".py",
   "mimetype": "text/x-python",
   "name": "python",
   "nbconvert_exporter": "python",
   "pygments_lexer": "ipython3",
   "version": "3.12.0"
  }
 },
 "nbformat": 4,
 "nbformat_minor": 2
}
