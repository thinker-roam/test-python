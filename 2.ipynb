{
 "cells": [
  {
   "cell_type": "markdown",
   "metadata": {},
   "source": [
    "## 变量"
   ]
  },
  {
   "cell_type": "markdown",
   "metadata": {},
   "source": [
    "### 支持科学计数法 (字面量)"
   ]
  },
  {
   "cell_type": "code",
   "execution_count": 1,
   "metadata": {},
   "outputs": [
    {
     "name": "stdout",
     "output_type": "stream",
     "text": [
      "123.56\n"
     ]
    }
   ],
   "source": [
    "print(1.2356e2)"
   ]
  },
  {
   "cell_type": "markdown",
   "metadata": {},
   "source": [
    "### 类型判断"
   ]
  },
  {
   "cell_type": "code",
   "execution_count": null,
   "metadata": {},
   "outputs": [
    {
     "name": "stdout",
     "output_type": "stream",
     "text": [
      "int::type:: <class 'int'>\n",
      "float::type:: <class 'float'>\n",
      "string::type:: <class 'str'>\n",
      "boolean::type:: <class 'bool'>\n",
      "list::type:: <class 'list'>\n"
     ]
    }
   ],
   "source": [
    "a = 100\n",
    "b = 123.234\n",
    "c = 'hello world'\n",
    "d = True\n",
    "e = [1,2,3,4]\n",
    "print (f'int::type:: {type(a)}')\n",
    "print (f'float::type:: {type(b)}')\n",
    "print (f'string::type:: {type(c)}')\n",
    "print (f'boolean::type:: {type(d)}')\n",
    "# print (f'list::type:: {type(e)}')\n"
   ]
  },
  {
   "cell_type": "markdown",
   "metadata": {},
   "source": [
    "## 强制类型转换"
   ]
  },
  {
   "cell_type": "markdown",
   "metadata": {},
   "source": [
    "### `int()`\n",
    "    - 将基本类型( number(float)  / boolean  )转换成整数\n",
    "    - 可以指定进制"
   ]
  },
  {
   "cell_type": "code",
   "execution_count": null,
   "metadata": {},
   "outputs": [
    {
     "name": "stdout",
     "output_type": "stream",
     "text": [
      "======基本类型========\n",
      "float to int  123\n",
      "boolean to int  1\n",
      "======复杂类型========\n"
     ]
    }
   ],
   "source": [
    "int_num = 1234\n",
    "float_num = 123.123\n",
    "string_test = 'hello world'\n",
    "char_test = 'A'\n",
    "chr_num = 49\n",
    "ord_string = 'A'\n",
    "boolean = True\n",
    "\n",
    "list_test = [12,2,3,4,5]\n",
    "\n",
    "def test():\n",
    "    return 0\n",
    "\n",
    "\n",
    "print('======基本类型========')\n",
    "print(f\"float to int  {int(float_num)}\")\n",
    "# print(f\"char to int  {int(char_test)}\")  # 无法转换 报错\n",
    "# print(f\"string to int  {int(string_)}\") # 无法转换 报错\n",
    "print(f\"boolean to int  {int(boolean)}\")\n",
    "print('======复杂类型========')\n",
    "# print(f\"list to int  {int(list_test)}\") # 无法转换 报错\n",
    "# print(f\"function to int  {int(test)}\") # 无法转换 报错\n"
   ]
  },
  {
   "cell_type": "markdown",
   "metadata": {},
   "source": [
    "### `float()` \n",
    "    - 将基本类型( number(int)  / boolean  )转换成浮点数\n"
   ]
  },
  {
   "cell_type": "code",
   "execution_count": 19,
   "metadata": {},
   "outputs": [
    {
     "name": "stdout",
     "output_type": "stream",
     "text": [
      "======基本类型========\n",
      "int to float  1234.0\n",
      "boolean to float  1.0\n",
      "======复杂类型========\n"
     ]
    }
   ],
   "source": [
    "int_num = 1234\n",
    "string_test = 'hello world'\n",
    "char_test = 'A'\n",
    "chr_num = 49\n",
    "ord_string = 'A'\n",
    "boolean = True\n",
    "\n",
    "list_test = [12,2,3,4,5]\n",
    "\n",
    "def test():\n",
    "    return 0\n",
    "\n",
    "\n",
    "print('======基本类型========')\n",
    "print(f\"int to float  {float(int_num)}\")\n",
    "# print(f\"char to float  {float(char_test)}\")  # 无法转换 报错\n",
    "# print(f\"string to float  {float(string_)}\") # 无法转换 报错\n",
    "print(f\"boolean to float  {float(boolean)}\")\n",
    "print('======复杂类型========')\n",
    "# print(f\"list to float  {float(list_test)}\") # 无法转换 报错\n",
    "# print(f\"function to float  {float(test)}\") # 无法转换 报错"
   ]
  },
  {
   "cell_type": "markdown",
   "metadata": {},
   "source": [
    "- `str()`\n",
    "    - 将指定的对象（基本类型 + 复杂类型） 转换为 字符串形式\n",
    "\n",
    "- `chr()`\n",
    "- `ord()`"
   ]
  }
 ],
 "metadata": {
  "kernelspec": {
   "display_name": "base",
   "language": "python",
   "name": "python3"
  },
  "language_info": {
   "codemirror_mode": {
    "name": "ipython",
    "version": 3
   },
   "file_extension": ".py",
   "mimetype": "text/x-python",
   "name": "python",
   "nbconvert_exporter": "python",
   "pygments_lexer": "ipython3",
   "version": "3.12.7"
  }
 },
 "nbformat": 4,
 "nbformat_minor": 2
}
